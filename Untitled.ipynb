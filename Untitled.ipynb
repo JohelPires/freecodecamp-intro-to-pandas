{
 "cells": [
  {
   "cell_type": "markdown",
   "id": "925452df-bc3e-478a-a998-27a03231299a",
   "metadata": {},
   "source": [
    "# Markdown to pdf\n",
    "\n",
    "This is a test case for the markdown to pdf at jupyter lab. I seek:\n",
    "\n",
    "- easy way to make beautiful docs\n",
    "- insert beautiful charts"
   ]
  }
 ],
 "metadata": {
  "kernelspec": {
   "display_name": "Python 3 (ipykernel)",
   "language": "python",
   "name": "python3"
  },
  "language_info": {
   "codemirror_mode": {
    "name": "ipython",
    "version": 3
   },
   "file_extension": ".py",
   "mimetype": "text/x-python",
   "name": "python",
   "nbconvert_exporter": "python",
   "pygments_lexer": "ipython3",
   "version": "3.10.6"
  }
 },
 "nbformat": 4,
 "nbformat_minor": 5
}
